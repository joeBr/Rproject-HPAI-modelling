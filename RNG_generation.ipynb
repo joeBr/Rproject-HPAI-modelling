{
 "cells": [
  {
   "cell_type": "markdown",
   "id": "22b6dd94-7eb6-4071-921d-79117cb3c28e",
   "metadata": {},
   "source": [
    "# RNG Generator"
   ]
  },
  {
   "cell_type": "code",
   "execution_count": 2,
   "id": "752ad440-2725-4f0a-99ee-d7a48d6f7fba",
   "metadata": {},
   "outputs": [],
   "source": [
    "import networkx as nx\n",
    "import matplotlib.pyplot as plt\n",
    "import matplotlib.transforms as mtransforms\n",
    "import numpy as np\n",
    "from scipy.stats import nbinom\n",
    "import scipy.stats as stats\n",
    "from scipy.special import gamma\n",
    "import pandas as pd\n",
    "import random\n",
    "from math import comb\n",
    "import math\n",
    "from pickle import dump\n",
    "from pickle import load"
   ]
  },
  {
   "cell_type": "markdown",
   "id": "51ba4486-1688-4359-b0e3-8b8ef941361d",
   "metadata": {},
   "source": [
    "## Populations"
   ]
  },
  {
   "cell_type": "code",
   "execution_count": 3,
   "id": "5c01d7f3-8aab-4b71-ba4e-9d3235b325d6",
   "metadata": {},
   "outputs": [],
   "source": [
    "fit_alpha,fit_beta,fit_loc,fit_scale = 1.4709515345874549,3.9521542417123277,-0.024762702437304038,6.7"
   ]
  },
  {
   "cell_type": "code",
   "execution_count": 9,
   "id": "e861d650-ce2d-4d4d-b893-78990404e865",
   "metadata": {},
   "outputs": [],
   "source": [
    "with open((\"networks/grid.pkl\"), \"rb\") as file:\n",
    "    G = load(file)\n",
    "for i in range(10):\n",
    "    pop = pd.Series(stats.beta.rvs(fit_alpha,fit_beta, loc=fit_loc, scale=fit_scale, size = len(G.nodes))).map(lambda x: round(10**x))\n",
    "    filename = \"populations\\\\pop_\" + str(i+1).rjust(3,\"0\") + \".pkl\"\n",
    "    with open((filename), 'wb') as f:\n",
    "        dump(pop,f)"
   ]
  },
  {
   "cell_type": "markdown",
   "id": "574a3dba-63d8-43e6-98d9-ce4f49bcdd28",
   "metadata": {},
   "source": [
    "## Infections"
   ]
  },
  {
   "cell_type": "code",
   "execution_count": 4,
   "id": "09af7046-938c-4dd1-b007-b737c3c8d3e7",
   "metadata": {},
   "outputs": [],
   "source": [
    "def indicator_seasonal(t,eps_seasonal):\n",
    "    if t<=150:\n",
    "        return eps_seasonal\n",
    "    else:\n",
    "        return 0"
   ]
  },
  {
   "cell_type": "code",
   "execution_count": 5,
   "id": "dc930bb4-159b-436a-9bd4-7029b401e34d",
   "metadata": {},
   "outputs": [],
   "source": [
    "def expm1(x):\n",
    "    if abs(x) < 1e-5:\n",
    "        return x + 0.5*x*x\n",
    "    else:\n",
    "        return math.exp(x) - 1.0"
   ]
  },
  {
   "cell_type": "code",
   "execution_count": 6,
   "id": "dd8d1662-ff38-4fdf-9110-c8390acff6e4",
   "metadata": {},
   "outputs": [],
   "source": [
    "def generate_RNG(eps_wild,eps_seasonal,G,T):\n",
    "    RNG_eps = {node: np.random.uniform(0,1,size = T) for node in G.nodes}\n",
    "    force_eps = [eps_wild for t in range(T)]\n",
    "    p_eps = {node: list(map(lambda x: -expm1(-x),force_eps)) for node in G.nodes}\n",
    "    check_eps_infected = {node: [p_eps[node][t]>RNG_eps[node][t] for t in range(T)] for node in G.nodes}\n",
    "\n",
    "    RNG_seasonal = {node: np.random.uniform(0,1,size = T) for node in G.nodes}\n",
    "    force_seasonal = [indicator_seasonal(t,eps_seasonal) for t in range(T)]\n",
    "    p_seasonal = {node: list(map(lambda x: -expm1(-x),force_seasonal)) for node in G.nodes}\n",
    "    check_seasonal_infected = {node: [p_seasonal[node][t]>RNG_seasonal[node][t] for t in range(T)] for node in G.nodes}\n",
    "\n",
    "    \n",
    "    RNG = [check_eps_infected, check_seasonal_infected]\n",
    "    \n",
    "    return RNG"
   ]
  },
  {
   "cell_type": "markdown",
   "id": "740f9d99-24ac-4e25-a55f-bed594c32166",
   "metadata": {},
   "source": [
    "## Grid Pre2021"
   ]
  },
  {
   "cell_type": "code",
   "execution_count": 13,
   "id": "e3502766-2fd0-4b56-90bd-e5f1caa90e48",
   "metadata": {},
   "outputs": [],
   "source": [
    "theta_grid_pre2021 = {\"tau\": 11e-4, \"eps_wild\": 0, \"eps_seasonal\" : 3.326e-6}\n",
    "T = 365\n",
    "net_filename = \"networks/grid.pkl\"\n",
    "with open((net_filename), 'rb') as f1:\n",
    "    G = load(f1)\n",
    "for i in range(1,101,1):\n",
    "    eps_wild = theta_grid_pre2021[\"eps_wild\"]\n",
    "    eps_seasonal = theta_grid_pre2021[\"eps_seasonal\"]\n",
    "    RNG = generate_RNG(eps_wild,eps_seasonal,G,T)\n",
    "\n",
    "    filename = \"RNG\\\\rng_grid_pre2021_\" + str(i).rjust(3,\"0\") + \".pkl\"\n",
    "    with open((filename), 'wb') as f:\n",
    "        dump(RNG,f)\n",
    "            \n",
    "            "
   ]
  },
  {
   "cell_type": "markdown",
   "id": "1e5a5376-69e2-4acc-a655-6286a9e176b2",
   "metadata": {},
   "source": [
    "## Grid Post2021"
   ]
  },
  {
   "cell_type": "code",
   "execution_count": 17,
   "id": "22b57a28-e527-4038-a4b6-bb61bd697890",
   "metadata": {},
   "outputs": [],
   "source": [
    "theta_grid_post2021 = {\"tau\":0.00110078125,\"eps_wild\": 4.125e-05,\"eps_seasonal\": 5.5605e-05}\n",
    "T = 365\n",
    "net_filename = \"networks/grid.pkl\"\n",
    "with open((net_filename), 'rb') as f1:\n",
    "    G = load(f1)\n",
    "for i in range(1,101,1):\n",
    "    eps_wild = theta_grid_post2021[\"eps_wild\"]\n",
    "    eps_seasonal = theta_grid_post2021[\"eps_seasonal\"]\n",
    "    RNG = generate_RNG(eps_wild,eps_seasonal,G,T)\n",
    "\n",
    "    filename = \"RNG\\\\rng_grid_post2021_\" + str(i).rjust(3,\"0\") + \".pkl\"\n",
    "    with open((filename), 'wb') as f:\n",
    "        dump(RNG,f)\n",
    "            \n"
   ]
  },
  {
   "cell_type": "markdown",
   "id": "7a2c790e-842e-4801-b0c9-c3826596240b",
   "metadata": {},
   "source": [
    "## D1 Pre2021"
   ]
  },
  {
   "cell_type": "code",
   "execution_count": 45,
   "id": "b4a38a49-9bd5-4e42-8340-7ac162a55be3",
   "metadata": {},
   "outputs": [],
   "source": [
    "theta_D1_pre2021 = {\"tau\": 8.3e-4, \"eps_wild\": 0, \"eps_seasonal\" : 3.326e-6}\n",
    "T = 365\n",
    "\n",
    "for k in range(1,11,1):\n",
    "    net_filename = \"networks/grid_r_D=1_\" + str(k).rjust(3,\"0\") + \".pkl\"\n",
    "    with open((net_filename), 'rb') as f1:\n",
    "        G = load(f1)\n",
    "    for i in range(1,11,1):\n",
    "        eps_wild = theta_D1_pre2021[\"eps_wild\"]\n",
    "        eps_seasonal = theta_D1_pre2021[\"eps_seasonal\"]\n",
    "        RNG = generate_RNG(eps_wild,eps_seasonal,G,T)\n",
    "\n",
    "        filename = \"RNG\\\\rng_D1_pre2021_network\" + str(k).rjust(3,\"0\") + \"_\" + str(i).rjust(3,\"0\") + \".pkl\"\n",
    "        with open((filename), 'wb') as f:\n",
    "            dump(RNG,f)\n",
    "\n",
    "            "
   ]
  },
  {
   "cell_type": "markdown",
   "id": "30055d7c-9be6-4cdd-8892-7f4c0d13392d",
   "metadata": {},
   "source": [
    "## D1 Post2021"
   ]
  },
  {
   "cell_type": "code",
   "execution_count": 56,
   "id": "a4befaa6-4068-4f12-8ce5-8a536651850c",
   "metadata": {},
   "outputs": [],
   "source": [
    "theta_D1_post2021 = {\"tau\":8.8e-4,\"eps_wild\":4.3e-05,\"eps_seasonal\":5.7964e-5} \n",
    "T = 365\n",
    "\n",
    "for k in range(1,11,1):\n",
    "    net_filename = \"networks/grid_r_D=1_\" + str(k).rjust(3,\"0\") + \".pkl\"\n",
    "    with open((net_filename), 'rb') as f1:\n",
    "        G = load(f1)\n",
    "    for i in range(1,11,1):\n",
    "        eps_wild = theta_D1_post2021[\"eps_wild\"]\n",
    "        eps_seasonal = theta_D1_post2021[\"eps_seasonal\"]\n",
    "        RNG = generate_RNG(eps_wild,eps_seasonal,G,T)\n",
    "\n",
    "        filename = \"RNG\\\\rng_D1_post2021_network\" + str(k).rjust(3,\"0\") + \"_\" + str(i).rjust(3,\"0\") + \".pkl\"\n",
    "        with open((filename), 'wb') as f:\n",
    "            dump(RNG,f)"
   ]
  },
  {
   "cell_type": "markdown",
   "id": "9e739c8c-4d85-409d-b745-66e52cdde145",
   "metadata": {},
   "source": [
    "## D1.5 Pre2021"
   ]
  },
  {
   "cell_type": "code",
   "execution_count": 19,
   "id": "67bbd84f-1a7c-47ba-8737-366f6d632c05",
   "metadata": {},
   "outputs": [],
   "source": [
    "theta_D15_pre2021 = {\"tau\": 5e-4, \"eps_wild\": 0, \"eps_seasonal\" : 3.326e-6}\n",
    "T = 365\n",
    "\n",
    "for k in range(1,11,1):\n",
    "    net_filename = \"networks/grid_r_D=1.5_\" + str(k).rjust(3,\"0\") + \".pkl\"\n",
    "    with open((net_filename), 'rb') as f1:\n",
    "        G = load(f1)\n",
    "    for i in range(1,11,1):\n",
    "        eps_wild = theta_D15_pre2021[\"eps_wild\"]\n",
    "        eps_seasonal = theta_D15_pre2021[\"eps_seasonal\"]\n",
    "        RNG = generate_RNG(eps_wild,eps_seasonal,G,T)\n",
    "\n",
    "        filename = \"RNG\\\\rng_D15_pre2021_network\" + str(k).rjust(3,\"0\") + \"_\" + str(i).rjust(3,\"0\") + \".pkl\"\n",
    "        with open((filename), 'wb') as f:\n",
    "            dump(RNG,f)\n",
    "\n",
    "            "
   ]
  },
  {
   "cell_type": "markdown",
   "id": "87e228cd-6e5f-4b3d-ab3b-bf7c44c055a8",
   "metadata": {},
   "source": [
    "## D1.5 Post2021"
   ]
  },
  {
   "cell_type": "code",
   "execution_count": 27,
   "id": "d0b12cd2-9ad2-4321-b88e-4d4ce371088b",
   "metadata": {},
   "outputs": [],
   "source": [
    "theta_D15_post2021 = {\"tau\": 5e-4 , \"eps_wild\": 5.775e-05, \"eps_seasonal\" : 7.7847e-05}\n",
    "T = 365\n",
    "\n",
    "for k in range(1,11,1):\n",
    "    net_filename = \"networks/grid_r_D=1.5_\" + str(k).rjust(3,\"0\") + \".pkl\"\n",
    "    with open((net_filename), 'rb') as f1:\n",
    "        G = load(f1)\n",
    "    for i in range(1,11,1):\n",
    "        eps_wild = theta_D15_post2021[\"eps_wild\"]\n",
    "        eps_seasonal = theta_D15_post2021[\"eps_seasonal\"]\n",
    "        RNG = generate_RNG(eps_wild,eps_seasonal,G,T)\n",
    "\n",
    "        filename = \"RNG\\\\rng_D15_post2021_network\" + str(k).rjust(3,\"0\") + \"_\" + str(i).rjust(3,\"0\") + \".pkl\"\n",
    "        with open((filename), 'wb') as f:\n",
    "            dump(RNG,f)"
   ]
  },
  {
   "cell_type": "markdown",
   "id": "23b15ad7-4a90-4e62-a536-bc454e0b84c3",
   "metadata": {},
   "source": [
    "## D2 Pre2021"
   ]
  },
  {
   "cell_type": "code",
   "execution_count": 25,
   "id": "076d50e2-0805-44d2-bd80-bf6ddce41895",
   "metadata": {},
   "outputs": [],
   "source": [
    "theta_D2_pre2021 = {\"tau\": 4.3671875e-4, \"eps_wild\": 0, \"eps_seasonal\" : 3.326e-6}\n",
    "T = 365\n",
    "\n",
    "for k in range(1,11,1):\n",
    "    net_filename = \"networks/grid_r_D=2_\" + str(k).rjust(3,\"0\") + \".pkl\"\n",
    "    with open((net_filename), 'rb') as f1:\n",
    "        G = load(f1)\n",
    "    for i in range(1,11,1):\n",
    "        eps_wild = theta_D2_pre2021[\"eps_wild\"]\n",
    "        eps_seasonal = theta_D2_pre2021[\"eps_seasonal\"]\n",
    "        RNG = generate_RNG(eps_wild,eps_seasonal,G,T)\n",
    "\n",
    "        filename = \"RNG\\\\rng_D2_pre2021_network\" + str(k).rjust(3,\"0\") + \"_\" + str(i).rjust(3,\"0\") + \".pkl\"\n",
    "        with open((filename), 'wb') as f:\n",
    "            dump(RNG,f)\n",
    "\n",
    "            "
   ]
  },
  {
   "cell_type": "markdown",
   "id": "3a5aee9a-de1b-49b2-965c-55ae5a0fd30a",
   "metadata": {},
   "source": [
    "## D2 Post2021"
   ]
  },
  {
   "cell_type": "code",
   "execution_count": 42,
   "id": "0385021c-fc02-4448-add5-78c4af03370b",
   "metadata": {
    "scrolled": true,
    "tags": []
   },
   "outputs": [],
   "source": [
    "theta_D2_post2021 = {\"tau\": 4.3671875e-4, \"eps_wild\": 7.725e-5, \"eps_seasonal\" : 10.4133e-5} \n",
    "T = 365\n",
    "\n",
    "for k in range(1,11,1):\n",
    "    net_filename = \"networks/grid_r_D=2_\" + str(k).rjust(3,\"0\") + \".pkl\"\n",
    "    with open((net_filename), 'rb') as f1:\n",
    "        G = load(f1)\n",
    "    for i in range(1,11,1):\n",
    "        eps_wild = theta_D2_post2021[\"eps_wild\"]\n",
    "        eps_seasonal = theta_D2_post2021[\"eps_seasonal\"]\n",
    "        RNG = generate_RNG(eps_wild,eps_seasonal,G,T)\n",
    "\n",
    "        filename = \"RNG\\\\rng_D2_post2021_network\" + str(k).rjust(3,\"0\") + \"_\" + str(i).rjust(3,\"0\") + \".pkl\"\n",
    "        with open((filename), 'wb') as f:\n",
    "            dump(RNG,f)"
   ]
  },
  {
   "cell_type": "markdown",
   "id": "50de12e2-a92b-41a0-8bf9-fe7fa54cd91d",
   "metadata": {},
   "source": [
    "## D3 Pre2021"
   ]
  },
  {
   "cell_type": "code",
   "execution_count": 15,
   "id": "6a5c7e97-c6cf-46b0-b236-10a1ba2ddf6a",
   "metadata": {},
   "outputs": [],
   "source": [
    "theta_D3_pre2021 = {\"tau\": 2.5e-4, \"eps_wild\": 0, \"eps_seasonal\" : 3.326e-6}\n",
    "T = 365\n",
    "\n",
    "for k in range(1,11,1):\n",
    "    net_filename = \"networks/grid_r_D=3_\" + str(k).rjust(3,\"0\") + \".pkl\"\n",
    "    with open((net_filename), 'rb') as f1:\n",
    "        G = load(f1)\n",
    "    for i in range(1,11,1):\n",
    "        eps_wild = theta_D3_pre2021[\"eps_wild\"]\n",
    "        eps_seasonal = theta_D3_pre2021[\"eps_seasonal\"]\n",
    "        RNG = generate_RNG(eps_wild,eps_seasonal,G,T)\n",
    "\n",
    "        filename = \"RNG\\\\rng_D3_pre2021_network\" + str(k).rjust(3,\"0\") + \"_\" + str(i).rjust(3,\"0\") + \".pkl\"\n",
    "        with open((filename), 'wb') as f:\n",
    "            dump(RNG,f)\n",
    "\n",
    "            "
   ]
  },
  {
   "cell_type": "markdown",
   "id": "b11af50b-f433-46f9-9aa6-5f9944ffe288",
   "metadata": {},
   "source": [
    "## D3 Post2021"
   ]
  },
  {
   "cell_type": "code",
   "execution_count": 44,
   "id": "79a372bc-cfd8-4fd3-9fbe-6d3b7c2c26f1",
   "metadata": {},
   "outputs": [],
   "source": [
    "theta_D3_post2021 = {\"tau\": 0.000325, \"eps_wild\":9.625e-05, \"eps_seasonal\" : 12.9745e-05}\n",
    "T = 365\n",
    "\n",
    "for k in range(1,11,1):\n",
    "    net_filename = \"networks/grid_r_D=3_\" + str(k).rjust(3,\"0\") + \".pkl\"\n",
    "    with open((net_filename), 'rb') as f1:\n",
    "        G = load(f1)\n",
    "    for i in range(1,11,1):\n",
    "        eps_wild = theta_D3_post2021[\"eps_wild\"]\n",
    "        eps_seasonal = theta_D3_post2021[\"eps_seasonal\"]\n",
    "        RNG = generate_RNG(eps_wild,eps_seasonal,G,T)\n",
    "\n",
    "        filename = \"RNG\\\\rng_D3_post2021_network\" + str(k).rjust(3,\"0\") + \"_\" + str(i).rjust(3,\"0\") + \".pkl\"\n",
    "        with open((filename), 'wb') as f:\n",
    "            dump(RNG,f)\n",
    "\n",
    "            "
   ]
  }
 ],
 "metadata": {
  "kernelspec": {
   "display_name": "Python 3 (ipykernel)",
   "language": "python",
   "name": "python3"
  },
  "language_info": {
   "codemirror_mode": {
    "name": "ipython",
    "version": 3
   },
   "file_extension": ".py",
   "mimetype": "text/x-python",
   "name": "python",
   "nbconvert_exporter": "python",
   "pygments_lexer": "ipython3",
   "version": "3.9.7"
  }
 },
 "nbformat": 4,
 "nbformat_minor": 5
}
