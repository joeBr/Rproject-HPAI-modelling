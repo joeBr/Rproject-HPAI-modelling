{
 "cells": [
  {
   "cell_type": "code",
   "execution_count": 6,
   "id": "ff5f373d-ad0b-4ab3-85a0-9412e4cce75d",
   "metadata": {},
   "outputs": [],
   "source": [
    "import networkx as nx\n",
    "import matplotlib.pyplot as plt\n",
    "import matplotlib.transforms as mtransforms\n",
    "import numpy as np\n",
    "from scipy.stats import nbinom\n",
    "import scipy.stats as stats\n",
    "from scipy.special import gamma\n",
    "import pandas as pd\n",
    "import random\n",
    "from math import comb\n",
    "import math\n",
    "from pickle import dump\n",
    "from tqdm import tqdm\n",
    "from pickle import load\n",
    "import timeit\n"
   ]
  },
  {
   "cell_type": "code",
   "execution_count": 7,
   "id": "b927b3c8-8f03-403f-a73b-1e60c0b82c10",
   "metadata": {},
   "outputs": [],
   "source": [
    "net_filename = \"networks/grid.pkl\"\n",
    "T=365\n",
    "with open((net_filename), 'rb') as f1:\n",
    "        G = load(f1)\n",
    "no_wild = {key:[False for i in range(T)] for key in G.nodes}  "
   ]
  },
  {
   "cell_type": "code",
   "execution_count": 58,
   "id": "bad30149-a9c6-495c-928b-f7d75ae6e807",
   "metadata": {},
   "outputs": [],
   "source": [
    "def simulation4(G, RNG, pop, T, f, tau, Td, Tc, Tdz, detected_edge_weight):\n",
    "    \"\"\"\n",
    "    n - number of premises\n",
    "    T - end time of simulation\n",
    "    f - transmission force function\n",
    "    Td - time until detection\n",
    "    Tc - time until removal\n",
    "    \n",
    "    \n",
    "    \"\"\"\n",
    "    \n",
    "    if RNG[0] == RNG[1] == no_wild:\n",
    "        return [0]*T,{\"Wild\":0,\"N2N\":0},[],[], {\"S\":[0]*T,\"I\":[0]*T,\"D\":[0]*T,\"C\":[0]*T}\n",
    "    \n",
    "    else:\n",
    "\n",
    "\n",
    "        active_cases_data = []\n",
    "        new_cases_data = []\n",
    "        wild_infections = []\n",
    "        first10 = []\n",
    "        compartments = {\"S\":[],\"I\":[],\"D\":[],\"C\":[]}\n",
    "        S = len(G.nodes())\n",
    "        I = 0\n",
    "        D = 0\n",
    "        C = 0\n",
    "\n",
    "\n",
    "        N = len(G.nodes)\n",
    "        #First Infection\n",
    "        #first_infection = random.choice(list(G.nodes()))\n",
    "\n",
    "        #G.nodes[first_infection][\"status\"] = [\"I\"] \n",
    "        #infected_premises = [first_infection]\n",
    "        infected_premises = []\n",
    "\n",
    "        #Generate Random number arrays\n",
    "        check_eps_infected = RNG[0]\n",
    "        check_seasonal_infected = RNG[1]\n",
    "\n",
    "        add_premise_attr(G,pop,T)\n",
    "\n",
    "\n",
    "        for n in G.nodes:\n",
    "            status = G.nodes[n][\"status\"] \n",
    "            for s in status:\n",
    "                if s != \"S\":\n",
    "                    print(s)\n",
    "\n",
    "\n",
    "\n",
    "        t = 0\n",
    "        wild = 0\n",
    "        N2N = 0\n",
    "\n",
    "        while (t<T) :\n",
    "\n",
    "            new_infected = []\n",
    "\n",
    "\n",
    "\n",
    "            #Wild bird Infections\n",
    "            for node in G.nodes:\n",
    "                if G.nodes[node][\"status\"][t] == \"S\":\n",
    "                    if check_seasonal_infected[node][t] or check_eps_infected[node][t]:\n",
    "                        if N2N+wild<10:\n",
    "                            first10.append(node)\n",
    "                        wild+=1\n",
    "                     \n",
    "                        new_infected.append(node)\n",
    "                        wild_infections.append(node)\n",
    "\n",
    "\n",
    "\n",
    "\n",
    "            for nodeI in infected_premises:\n",
    "                for nodeS in G.neighbors(nodeI):\n",
    "                    if G.nodes[nodeS][\"status\"][t] == \"S\":\n",
    "                        rng = np.random.uniform(0,1)\n",
    "                        if (check_N2N_trans(tau,nodeS,nodeI,f,G)>rng) and (nodeS not in new_infected):\n",
    "                            new_infected.append(nodeS)\n",
    "                            if N2N+wild<10:\n",
    "                                first10.append(nodeS)\n",
    "                            N2N+=1\n",
    "                            \n",
    "\n",
    "\n",
    "\n",
    "\n",
    "\n",
    "            for n in G.nodes:\n",
    "                if G.nodes[n][\"zone\"]:\n",
    "\n",
    "                    if n in new_infected:\n",
    "                        infected_premises.append(n)\n",
    "                        G.nodes[n][\"status\"][t+1] = \"I\"\n",
    "                        I+=1\n",
    "                        S = S-1\n",
    "\n",
    "                    elif G.nodes[n][\"status\"][t+1-Tdz:t+1] == Tdz*[\"I\"]:\n",
    "                        if t>=Td:\n",
    "                            G.nodes[n][\"status\"][t+1] = \"D\"\n",
    "                            detection_PZ(G,n,detected_edge_weight)\n",
    "                            D+=1\n",
    "                            I = I-1\n",
    "\n",
    "                    elif G.nodes[n][\"status\"][t+1-Tc:t+1] == Tc*[\"D\"]:\n",
    "                        if t>=Tc:\n",
    "                            G.nodes[n][\"status\"][t+1] = \"C\"\n",
    "                            infected_premises.remove(n)\n",
    "                            C+=1\n",
    "                            D = D -1\n",
    "\n",
    "                    else:\n",
    "                        G.nodes[n][\"status\"][t+1] = G.nodes[n][\"status\"][t]\n",
    "\n",
    "                else:\n",
    "\n",
    "                    if n in new_infected:\n",
    "                        infected_premises.append(n)\n",
    "                        G.nodes[n][\"status\"][t+1] = \"I\"\n",
    "                        I+=1\n",
    "                        S = S-1\n",
    "\n",
    "                    elif G.nodes[n][\"status\"][t+1-Td:t+1] == Td*[\"I\"]:\n",
    "                        if t>=Td:\n",
    "                            G.nodes[n][\"status\"][t+1] = \"D\"\n",
    "                            detection_PZ(G,n,detected_edge_weight)\n",
    "                            D+=1\n",
    "                            I = I-1\n",
    "\n",
    "                    elif G.nodes[n][\"status\"][t+1-Tc:t+1] == Tc*[\"D\"]:\n",
    "                        if t>=Tc:\n",
    "                            G.nodes[n][\"status\"][t+1] = \"C\"\n",
    "                            infected_premises.remove(n)\n",
    "                            C+=1\n",
    "                            D = D -1\n",
    "\n",
    "                    else:\n",
    "                        G.nodes[n][\"status\"][t+1] = G.nodes[n][\"status\"][t]\n",
    "\n",
    "\n",
    "\n",
    "            t+=1\n",
    "            active_cases_data.append(len(infected_premises))\n",
    "            new_cases=len(new_infected)\n",
    "            new_cases_data.append(new_cases)\n",
    "            compartments[\"S\"].append(S)\n",
    "            compartments[\"I\"].append(I)\n",
    "            compartments[\"D\"].append(D)\n",
    "            compartments[\"C\"].append(C)\n",
    "            \n",
    "\n",
    "\n",
    "\n",
    "\n",
    "\n",
    "        return new_cases_data,{\"Wild\":wild,\"N2N\":N2N},wild_infections,first10,compartments"
   ]
  },
  {
   "cell_type": "code",
   "execution_count": 59,
   "id": "f68917ed-e7c2-4057-9281-62f246d01b8a",
   "metadata": {},
   "outputs": [],
   "source": [
    "def add_premise_attr(G,pop,T):\n",
    "    node_attr = {}\n",
    "    i=0\n",
    "    for node in G.nodes():\n",
    "        node_attr[node] = {\"pop\": pop[i],\n",
    "                          \"status\":[\"S\" for i in range(T+1)],\n",
    "                          \"zone\" : False}\n",
    "        i+=1\n",
    "        \n",
    "    for e in G.edges:\n",
    "        G.get_edge_data(e[1],e[0])[\"weight\"] = 1\n",
    "    nx.set_node_attributes(G,node_attr)"
   ]
  },
  {
   "cell_type": "code",
   "execution_count": 60,
   "id": "6c44442f-48bb-41a6-8293-4fa45c1a72d0",
   "metadata": {},
   "outputs": [],
   "source": [
    "def check_N2N_trans(tau,nodeS,nodeI,f,G):\n",
    "    popS = G.nodes[nodeS][\"pop\"]\n",
    "    popI = G.nodes[nodeI][\"pop\"]\n",
    "    force = tau * f(popI,popS) * G.get_edge_data(nodeI,nodeS)[\"weight\"] \n",
    "    p = -expm1(-force)\n",
    "    return p"
   ]
  },
  {
   "cell_type": "code",
   "execution_count": 61,
   "id": "0de54c5d-b800-40f1-8e0c-9193872af68a",
   "metadata": {},
   "outputs": [],
   "source": [
    "def detection_PZ(G,node,new_weight):\n",
    "    G.nodes[node][\"zone\"] = True\n",
    "    for e in G.edges(node):\n",
    "        G.get_edge_data(e[1],e[0])[\"weight\"] = new_weight   \n",
    "            \n",
    "            \n",
    "    for n1 in G.neighbors(node):\n",
    "        G.nodes[n1][\"zone\"] = True\n",
    "        for e in G.edges(n1):\n",
    "            G.get_edge_data(e[1],e[0])[\"weight\"] = new_weight   "
   ]
  },
  {
   "cell_type": "code",
   "execution_count": 62,
   "id": "50468649-96bb-4e05-a1b8-322c0ee7d95c",
   "metadata": {},
   "outputs": [],
   "source": [
    "def detection_edge_change(G,node,new_weight):\n",
    "    for e in G.edges(node):\n",
    "        G.get_edge_data(e[1],e[0])[\"weight\"] = new_weight   "
   ]
  },
  {
   "cell_type": "code",
   "execution_count": 63,
   "id": "00a681f1-dabb-4c84-b805-3003036c9267",
   "metadata": {},
   "outputs": [],
   "source": [
    "def reset_node_status(G):\n",
    "    for n in G.nodes():\n",
    "        nx.set_node_attributes(G,{n:{\"status\":[\"S\"]}})"
   ]
  },
  {
   "cell_type": "code",
   "execution_count": 64,
   "id": "ef714f4c-2c78-4ab6-802b-89d93601f032",
   "metadata": {},
   "outputs": [],
   "source": [
    "def expm1(x):\n",
    "    if abs(x) < 1e-5:\n",
    "        return x + 0.5*x*x\n",
    "    else:\n",
    "        return math.exp(x) - 1.0"
   ]
  },
  {
   "cell_type": "code",
   "execution_count": 123,
   "id": "06be666d-6a77-4f04-b55c-78dd03e7957c",
   "metadata": {},
   "outputs": [],
   "source": [
    "theta = {\"grid\":\n",
    "         {\"pre2021\":{\"tau\":0.00110078125,\"eps_r\":0,\"eps_s\":3.326e-6},\n",
    "          \"post2021\":{\"tau\":0.00110078125,\"eps_r\": 4.5714e-05,\"eps_s\": 4e-05}},\n",
    "         \"D=1\":\n",
    "         {\"pre2021\":{\"tau\":8e-4,\"eps_r\":0,\"eps_s\":3.326e-6},\n",
    "          \"post2021\":{\"tau\":8e-4,\"eps_r\":5.828571e-05,\"eps_s\":5.1e-5}},\n",
    "         \"D=1.5\":\n",
    "         {\"pre2021\":{\"tau\":5.5e-4,\"eps_r\":0,\"eps_s\":3.326e-6},\n",
    "          \"post2021\":{\"tau\":5.5e-4,\"eps_r\":7.314285714285714e-05,\"eps_s\":6.4e-5}},\n",
    "         \"D=2\":\n",
    "         {\"pre2021\":{\"tau\":0.00045,\"eps_r\":0,\"eps_s\":3.326e-6},\n",
    "          \"post2021\":{\"tau\":4.5e-4,\"eps_r\":9e-5,\"eps_s\":7.875e-5}},\n",
    "         \"D=3\":\n",
    "         {\"pre2021\":{\"tau\":0.000325,\"eps_r\":0,\"eps_s\":3.326e-6},\n",
    "          \"post2021\":{\"tau\":3.25e-4,\"eps_r\":0.00011142857142857143,\"eps_s\":9.75e-5}}\n",
    "        }\n",
    "\n"
   ]
  },
  {
   "cell_type": "code",
   "execution_count": 124,
   "id": "1f31f3b3-4d7d-4cfd-80a8-844ff3d99dc0",
   "metadata": {},
   "outputs": [],
   "source": [
    "network2rng = {\"D=1\":\"D1\",\n",
    "               \"D=1.5\":\"D15\",\n",
    "               \"D=2\":\"D2\",\n",
    "               \"D=3\":\"D3\"}"
   ]
  },
  {
   "cell_type": "code",
   "execution_count": 125,
   "id": "3e4c6657-e241-40c3-9e81-076b732c9907",
   "metadata": {},
   "outputs": [
    {
     "name": "stdout",
     "output_type": "stream",
     "text": [
      "D=1\n",
      "post2021\n",
      "0.0008 5.828571e-05 5.1e-05\n"
     ]
    },
    {
     "name": "stderr",
     "output_type": "stream",
     "text": [
      "100%|██████████| 10/10 [12:54<00:00, 77.40s/it]\n"
     ]
    },
    {
     "name": "stdout",
     "output_type": "stream",
     "text": [
      "162.414\n"
     ]
    },
    {
     "name": "stderr",
     "output_type": "stream",
     "text": [
      "100%|██████████| 10/10 [12:21<00:00, 74.18s/it]\n"
     ]
    },
    {
     "name": "stdout",
     "output_type": "stream",
     "text": [
      "161.845\n"
     ]
    },
    {
     "name": "stderr",
     "output_type": "stream",
     "text": [
      "  0%|          | 0/10 [00:51<?, ?it/s]\n"
     ]
    },
    {
     "ename": "KeyboardInterrupt",
     "evalue": "",
     "output_type": "error",
     "traceback": [
      "\u001b[1;31m---------------------------------------------------------------------------\u001b[0m",
      "\u001b[1;31mKeyboardInterrupt\u001b[0m                         Traceback (most recent call last)",
      "\u001b[1;32m~\\AppData\\Local\\Temp\\ipykernel_5260\\3473609995.py\u001b[0m in \u001b[0;36m<module>\u001b[1;34m\u001b[0m\n\u001b[0;32m     91\u001b[0m                                 \u001b[0mS\u001b[0m \u001b[1;33m+=\u001b[0m \u001b[0msum\u001b[0m\u001b[1;33m(\u001b[0m\u001b[0msim\u001b[0m\u001b[1;33m[\u001b[0m\u001b[1;36m1\u001b[0m\u001b[1;33m]\u001b[0m\u001b[1;33m.\u001b[0m\u001b[0mvalues\u001b[0m\u001b[1;33m(\u001b[0m\u001b[1;33m)\u001b[0m\u001b[1;33m)\u001b[0m\u001b[1;33m\u001b[0m\u001b[1;33m\u001b[0m\u001b[0m\n\u001b[0;32m     92\u001b[0m                             \u001b[0msim_filename\u001b[0m \u001b[1;33m=\u001b[0m \u001b[1;34m\"simulations\\\\sim_\"\u001b[0m \u001b[1;33m+\u001b[0m \u001b[0mnetwork2rng\u001b[0m\u001b[1;33m[\u001b[0m\u001b[0mnet_type\u001b[0m\u001b[1;33m]\u001b[0m\u001b[1;33m+\u001b[0m\u001b[1;34m\"_\"\u001b[0m\u001b[1;33m+\u001b[0m\u001b[0mperiod\u001b[0m\u001b[1;33m+\u001b[0m\u001b[1;34m\"_network\"\u001b[0m\u001b[1;33m+\u001b[0m \u001b[0mstr\u001b[0m\u001b[1;33m(\u001b[0m\u001b[0mnet_ID\u001b[0m\u001b[1;33m)\u001b[0m\u001b[1;33m.\u001b[0m\u001b[0mrjust\u001b[0m\u001b[1;33m(\u001b[0m\u001b[1;36m3\u001b[0m\u001b[1;33m,\u001b[0m\u001b[1;34m\"0\"\u001b[0m\u001b[1;33m)\u001b[0m \u001b[1;33m+\u001b[0m  \u001b[1;34m\"_RNG\"\u001b[0m \u001b[1;33m+\u001b[0m \u001b[0mstr\u001b[0m\u001b[1;33m(\u001b[0m\u001b[0mrng_ID\u001b[0m\u001b[1;33m)\u001b[0m\u001b[1;33m.\u001b[0m\u001b[0mrjust\u001b[0m\u001b[1;33m(\u001b[0m\u001b[1;36m3\u001b[0m\u001b[1;33m,\u001b[0m\u001b[1;34m\"0\"\u001b[0m\u001b[1;33m)\u001b[0m \u001b[1;33m+\u001b[0m \u001b[1;34m\"_pop\"\u001b[0m \u001b[1;33m+\u001b[0m \u001b[0mstr\u001b[0m\u001b[1;33m(\u001b[0m\u001b[0mpop_ID\u001b[0m\u001b[1;33m)\u001b[0m\u001b[1;33m.\u001b[0m\u001b[0mrjust\u001b[0m\u001b[1;33m(\u001b[0m\u001b[1;36m3\u001b[0m\u001b[1;33m,\u001b[0m\u001b[1;34m\"0\"\u001b[0m\u001b[1;33m)\u001b[0m \u001b[1;33m+\u001b[0m \u001b[1;34m\".pkl\"\u001b[0m\u001b[1;33m\u001b[0m\u001b[1;33m\u001b[0m\u001b[0m\n\u001b[1;32m---> 93\u001b[1;33m                             \u001b[1;32mwith\u001b[0m \u001b[0mopen\u001b[0m\u001b[1;33m(\u001b[0m\u001b[1;33m(\u001b[0m\u001b[0msim_filename\u001b[0m\u001b[1;33m)\u001b[0m\u001b[1;33m,\u001b[0m \u001b[1;34m'wb'\u001b[0m\u001b[1;33m)\u001b[0m \u001b[1;32mas\u001b[0m \u001b[0mf4\u001b[0m\u001b[1;33m:\u001b[0m\u001b[1;33m\u001b[0m\u001b[1;33m\u001b[0m\u001b[0m\n\u001b[0m\u001b[0;32m     94\u001b[0m                                 \u001b[0mdump\u001b[0m\u001b[1;33m(\u001b[0m\u001b[0msim\u001b[0m\u001b[1;33m,\u001b[0m\u001b[0mf4\u001b[0m\u001b[1;33m)\u001b[0m\u001b[1;33m\u001b[0m\u001b[1;33m\u001b[0m\u001b[0m\n\u001b[0;32m     95\u001b[0m                 \u001b[0mprint\u001b[0m\u001b[1;33m(\u001b[0m\u001b[0mS\u001b[0m\u001b[1;33m/\u001b[0m\u001b[0mn\u001b[0m\u001b[1;33m)\u001b[0m\u001b[1;33m\u001b[0m\u001b[1;33m\u001b[0m\u001b[0m\n",
      "\u001b[1;31mKeyboardInterrupt\u001b[0m: "
     ]
    }
   ],
   "source": [
    "f = lambda I,S: (I**0.5)*(S**0.5)\n",
    "T = 365\n",
    "Td = 4\n",
    "Tdz = 3\n",
    "Tc = 3\n",
    "detected_edge_weight = 0.1\n",
    "\n",
    "S = 0\n",
    "n = 10\n",
    "\n",
    "sizes = {\"pre2021\":16,\n",
    "         \"post2021\":160}\n",
    "\n",
    "tols = {\"pre2021\":0.5,\n",
    "         \"post2021\":1}\n",
    "\n",
    "for net_type in [\"D=1\",\"D=1.5\",\"D=2\",\"D=3\"]:\n",
    "    print(net_type)\n",
    "    for period in [\"post2021\"]:#theta[net_type].keys():\n",
    "        print(period)\n",
    "        \n",
    "        \n",
    "        \n",
    "        tau = theta[net_type][period][\"tau\"]\n",
    "        eps_r = theta[net_type][period][\"eps_r\"]\n",
    "        eps_s = theta[net_type][period][\"eps_s\"]\n",
    "        print(tau,eps_r,eps_s)\n",
    "        \n",
    "        \n",
    "        if net_type == \"grid\":\n",
    "            S = 0\n",
    "            n = 10\n",
    "            while abs(S/n - sizes[period])>tols[period]:\n",
    "                S = 0\n",
    "                n = 0\n",
    "                \n",
    "                net_filename = \"networks/grid.pkl\"\n",
    "\n",
    "                with open((net_filename), 'rb') as f1:\n",
    "                    G = load(f1)\n",
    "\n",
    "\n",
    "                for rng_ID in tqdm(range(1,101,1)):\n",
    "                    rng_filename = \"RNG\\\\rng_\" + net_type + \"_\" + period+ \"_\" + str(rng_ID).rjust(3,\"0\") + \".pkl\"\n",
    "                    with open((rng_filename), 'rb') as f2:\n",
    "                        RNG = load(f2)\n",
    "                    for pop_ID in range(1,11,1):\n",
    "                        pop_filename = \"populations\\\\pop_\" + str(pop_ID).rjust(3,\"0\") + \".pkl\"\n",
    "                        with open((pop_filename), 'rb') as f3:\n",
    "                            pop = load(f3)\n",
    "\n",
    "                        sim = simulation4(G, RNG, pop, T, f, tau, Td, Tc,Tdz, detected_edge_weight)\n",
    "\n",
    "                        if sim[1][\"N2N\"]>0:\n",
    "                            n+=1\n",
    "                            S += sim[1][\"Wild\"] + sim[1][\"N2N\"]\n",
    "\n",
    "                        sim_filename = \"simulations\\\\sim_\" + net_type+\"_\"+period+\"_RNG\" + str(rng_ID).rjust(3,\"0\") + \"_pop\" + str(pop_ID).rjust(3,\"0\") + \".pkl\"\n",
    "                        with open((sim_filename), 'wb') as f4:\n",
    "                            dump(sim,f4)\n",
    "                print(S/n)\n",
    "                \n",
    "                \n",
    "                \n",
    "                \n",
    "        else:\n",
    "            S = 0\n",
    "            n = 10\n",
    "            while abs(S/n - sizes[period])>tols[period]:\n",
    "                S = 0\n",
    "                n = 0\n",
    "                for net_ID in tqdm(range(1,11,1)):\n",
    "                    net_filename = \"networks/grid_r_\"+net_type+\"_\" + str(net_ID).rjust(3,\"0\") + \".pkl\"\n",
    "\n",
    "                    with open((net_filename), 'rb') as f1:\n",
    "                        G = load(f1)\n",
    "\n",
    "                    for rng_ID in range(1,11,1):\n",
    "                        rng_filename = \"RNG\\\\rng_\" + network2rng[net_type] + \"_\" + period+ \"_\" + \"network\"+ str(net_ID).rjust(3,\"0\") + \"_\"+ str(rng_ID).rjust(3,\"0\") + \".pkl\"\n",
    "                        with open((rng_filename), 'rb') as f2:\n",
    "                            RNG = load(f2)\n",
    "                        \n",
    "                        for pop_ID in range(1,11,1):\n",
    "                            pop_filename = \"populations\\\\pop_\" + str(pop_ID).rjust(3,\"0\") + \".pkl\"\n",
    "                            with open((pop_filename), 'rb') as f3:\n",
    "                                pop = load(f3)\n",
    "\n",
    "                            sim = simulation4(G, RNG, pop, T, f, tau, Td, Tc,Tdz, detected_edge_weight)\n",
    "                            if sim[1][\"N2N\"]>0:\n",
    "                                n+=1\n",
    "                                S += sum(sim[1].values())\n",
    "                            sim_filename = \"simulations\\\\sim_\" + network2rng[net_type]+\"_\"+period+\"_network\"+ str(net_ID).rjust(3,\"0\") +  \"_RNG\" + str(rng_ID).rjust(3,\"0\") + \"_pop\" + str(pop_ID).rjust(3,\"0\") + \".pkl\"\n",
    "                            with open((sim_filename), 'wb') as f4:\n",
    "                                dump(sim,f4)\n",
    "                print(S/n)\n",
    "\n",
    "            \n",
    "            "
   ]
  },
  {
   "cell_type": "markdown",
   "id": "7c0a7bb5-5718-4e10-87e2-c63271194d79",
   "metadata": {},
   "source": [
    "# Pre2021 Grid"
   ]
  },
  {
   "cell_type": "code",
   "execution_count": 15,
   "id": "31c6d306-190a-4ae4-8dea-7a14afa31327",
   "metadata": {},
   "outputs": [],
   "source": [
    "theta_grid_pre2021 = {\"tau\": 9e-4, \"eps_wild\": 0, \"eps_seasonal\" : 3.4e-7}\n",
    "tau = theta_grid_pre2021[\"tau\"]\n",
    "f = lambda I,S: (I**0.5)*(S**0.5)\n",
    "T = 365\n",
    "Td = 4\n",
    "Tdz = 3\n",
    "Tc = 3\n",
    "detected_edge_weight = 0.1"
   ]
  },
  {
   "cell_type": "code",
   "execution_count": 16,
   "id": "e3605b7c-9b93-43b7-87b2-54a222444794",
   "metadata": {},
   "outputs": [
    {
     "name": "stderr",
     "output_type": "stream",
     "text": [
      "  2%|▏         | 2/100 [00:15<12:43,  7.79s/it]\n"
     ]
    },
    {
     "ename": "KeyboardInterrupt",
     "evalue": "",
     "output_type": "error",
     "traceback": [
      "\u001b[1;31m---------------------------------------------------------------------------\u001b[0m",
      "\u001b[1;31mKeyboardInterrupt\u001b[0m                         Traceback (most recent call last)",
      "\u001b[1;32m~\\AppData\\Local\\Temp\\ipykernel_5260\\2338152850.py\u001b[0m in \u001b[0;36m<module>\u001b[1;34m\u001b[0m\n\u001b[0;32m     15\u001b[0m \u001b[1;33m\u001b[0m\u001b[0m\n\u001b[0;32m     16\u001b[0m \u001b[1;33m\u001b[0m\u001b[0m\n\u001b[1;32m---> 17\u001b[1;33m         \u001b[0msim\u001b[0m \u001b[1;33m=\u001b[0m \u001b[0msimulation4\u001b[0m\u001b[1;33m(\u001b[0m\u001b[0mG\u001b[0m\u001b[1;33m,\u001b[0m \u001b[0mRNG\u001b[0m\u001b[1;33m,\u001b[0m \u001b[0mpop\u001b[0m\u001b[1;33m,\u001b[0m \u001b[0mT\u001b[0m\u001b[1;33m,\u001b[0m \u001b[0mf\u001b[0m\u001b[1;33m,\u001b[0m \u001b[0mtau\u001b[0m\u001b[1;33m,\u001b[0m \u001b[0mTd\u001b[0m\u001b[1;33m,\u001b[0m \u001b[0mTc\u001b[0m\u001b[1;33m,\u001b[0m\u001b[0mTdz\u001b[0m\u001b[1;33m,\u001b[0m \u001b[0mdetected_edge_weight\u001b[0m\u001b[1;33m)\u001b[0m\u001b[1;33m\u001b[0m\u001b[1;33m\u001b[0m\u001b[0m\n\u001b[0m\u001b[0;32m     18\u001b[0m         \u001b[0msim_filename\u001b[0m \u001b[1;33m=\u001b[0m \u001b[1;34m\"simulations\\\\sim_grid_pre2021_RNG\"\u001b[0m \u001b[1;33m+\u001b[0m \u001b[0mstr\u001b[0m\u001b[1;33m(\u001b[0m\u001b[0mrng_ID\u001b[0m\u001b[1;33m)\u001b[0m\u001b[1;33m.\u001b[0m\u001b[0mrjust\u001b[0m\u001b[1;33m(\u001b[0m\u001b[1;36m3\u001b[0m\u001b[1;33m,\u001b[0m\u001b[1;34m\"0\"\u001b[0m\u001b[1;33m)\u001b[0m \u001b[1;33m+\u001b[0m \u001b[1;34m\"_pop_\"\u001b[0m \u001b[1;33m+\u001b[0m \u001b[0mstr\u001b[0m\u001b[1;33m(\u001b[0m\u001b[0mpop_ID\u001b[0m\u001b[1;33m)\u001b[0m\u001b[1;33m.\u001b[0m\u001b[0mrjust\u001b[0m\u001b[1;33m(\u001b[0m\u001b[1;36m3\u001b[0m\u001b[1;33m,\u001b[0m\u001b[1;34m\"0\"\u001b[0m\u001b[1;33m)\u001b[0m \u001b[1;33m+\u001b[0m \u001b[1;34m\".pkl\"\u001b[0m\u001b[1;33m\u001b[0m\u001b[1;33m\u001b[0m\u001b[0m\n\u001b[0;32m     19\u001b[0m         \u001b[1;32mwith\u001b[0m \u001b[0mopen\u001b[0m\u001b[1;33m(\u001b[0m\u001b[1;33m(\u001b[0m\u001b[0msim_filename\u001b[0m\u001b[1;33m)\u001b[0m\u001b[1;33m,\u001b[0m \u001b[1;34m'wb'\u001b[0m\u001b[1;33m)\u001b[0m \u001b[1;32mas\u001b[0m \u001b[0mf4\u001b[0m\u001b[1;33m:\u001b[0m\u001b[1;33m\u001b[0m\u001b[1;33m\u001b[0m\u001b[0m\n",
      "\u001b[1;32m~\\AppData\\Local\\Temp\\ipykernel_5260\\2240556833.py\u001b[0m in \u001b[0;36msimulation4\u001b[1;34m(G, RNG, pop, T, f, tau, Td, Tc, Tdz, detected_edge_weight)\u001b[0m\n\u001b[0;32m    130\u001b[0m                             \u001b[0mI\u001b[0m \u001b[1;33m=\u001b[0m \u001b[0mI\u001b[0m\u001b[1;33m-\u001b[0m\u001b[1;36m1\u001b[0m\u001b[1;33m\u001b[0m\u001b[1;33m\u001b[0m\u001b[0m\n\u001b[0;32m    131\u001b[0m \u001b[1;33m\u001b[0m\u001b[0m\n\u001b[1;32m--> 132\u001b[1;33m                     \u001b[1;32melif\u001b[0m \u001b[0mG\u001b[0m\u001b[1;33m.\u001b[0m\u001b[0mnodes\u001b[0m\u001b[1;33m[\u001b[0m\u001b[0mn\u001b[0m\u001b[1;33m]\u001b[0m\u001b[1;33m[\u001b[0m\u001b[1;34m\"status\"\u001b[0m\u001b[1;33m]\u001b[0m\u001b[1;33m[\u001b[0m\u001b[0mt\u001b[0m\u001b[1;33m+\u001b[0m\u001b[1;36m1\u001b[0m\u001b[1;33m-\u001b[0m\u001b[0mTc\u001b[0m\u001b[1;33m:\u001b[0m\u001b[0mt\u001b[0m\u001b[1;33m+\u001b[0m\u001b[1;36m1\u001b[0m\u001b[1;33m]\u001b[0m \u001b[1;33m==\u001b[0m \u001b[0mTc\u001b[0m\u001b[1;33m*\u001b[0m\u001b[1;33m[\u001b[0m\u001b[1;34m\"D\"\u001b[0m\u001b[1;33m]\u001b[0m\u001b[1;33m:\u001b[0m\u001b[1;33m\u001b[0m\u001b[1;33m\u001b[0m\u001b[0m\n\u001b[0m\u001b[0;32m    133\u001b[0m                         \u001b[1;32mif\u001b[0m \u001b[0mt\u001b[0m\u001b[1;33m>=\u001b[0m\u001b[0mTc\u001b[0m\u001b[1;33m:\u001b[0m\u001b[1;33m\u001b[0m\u001b[1;33m\u001b[0m\u001b[0m\n\u001b[0;32m    134\u001b[0m                             \u001b[0mG\u001b[0m\u001b[1;33m.\u001b[0m\u001b[0mnodes\u001b[0m\u001b[1;33m[\u001b[0m\u001b[0mn\u001b[0m\u001b[1;33m]\u001b[0m\u001b[1;33m[\u001b[0m\u001b[1;34m\"status\"\u001b[0m\u001b[1;33m]\u001b[0m\u001b[1;33m[\u001b[0m\u001b[0mt\u001b[0m\u001b[1;33m+\u001b[0m\u001b[1;36m1\u001b[0m\u001b[1;33m]\u001b[0m \u001b[1;33m=\u001b[0m \u001b[1;34m\"C\"\u001b[0m\u001b[1;33m\u001b[0m\u001b[1;33m\u001b[0m\u001b[0m\n",
      "\u001b[1;32m~\\anaconda3\\lib\\site-packages\\networkx\\classes\\reportviews.py\u001b[0m in \u001b[0;36m__getitem__\u001b[1;34m(self, n)\u001b[0m\n\u001b[0;32m    187\u001b[0m \u001b[1;33m\u001b[0m\u001b[0m\n\u001b[0;32m    188\u001b[0m     \u001b[1;32mdef\u001b[0m \u001b[0m__getitem__\u001b[0m\u001b[1;33m(\u001b[0m\u001b[0mself\u001b[0m\u001b[1;33m,\u001b[0m \u001b[0mn\u001b[0m\u001b[1;33m)\u001b[0m\u001b[1;33m:\u001b[0m\u001b[1;33m\u001b[0m\u001b[1;33m\u001b[0m\u001b[0m\n\u001b[1;32m--> 189\u001b[1;33m         \u001b[1;32mif\u001b[0m \u001b[0misinstance\u001b[0m\u001b[1;33m(\u001b[0m\u001b[0mn\u001b[0m\u001b[1;33m,\u001b[0m \u001b[0mslice\u001b[0m\u001b[1;33m)\u001b[0m\u001b[1;33m:\u001b[0m\u001b[1;33m\u001b[0m\u001b[1;33m\u001b[0m\u001b[0m\n\u001b[0m\u001b[0;32m    190\u001b[0m             raise nx.NetworkXError(\n\u001b[0;32m    191\u001b[0m                 \u001b[1;34mf\"{type(self).__name__} does not support slicing, \"\u001b[0m\u001b[1;33m\u001b[0m\u001b[1;33m\u001b[0m\u001b[0m\n",
      "\u001b[1;31mKeyboardInterrupt\u001b[0m: "
     ]
    }
   ],
   "source": [
    "net_filename = \"networks/grid.pkl\"\n",
    "with open((net_filename), 'rb') as f1:\n",
    "        G = load(f1)\n",
    "            \n",
    "\n",
    "for rng_ID in tqdm(range(1,101,1)):\n",
    "    rng_filename = \"RNG\\\\rng_grid_pre2021_\" + str(rng_ID).rjust(3,\"0\") + \".pkl\"\n",
    "    with open((rng_filename), 'rb') as f2:\n",
    "        RNG = load(f2)\n",
    "    \n",
    "    for pop_ID in range(1,11,1):\n",
    "        pop_filename = \"populations\\\\pop_\" + str(pop_ID).rjust(3,\"0\") + \".pkl\"\n",
    "        with open((pop_filename), 'rb') as f3:\n",
    "            pop = load(f3)\n",
    "        \n",
    "\n",
    "        sim = simulation4(G, RNG, pop, T, f, tau, Td, Tc,Tdz, detected_edge_weight)\n",
    "        sim_filename = \"simulations\\\\sim_grid_pre2021_RNG\" + str(rng_ID).rjust(3,\"0\") + \"_pop_\" + str(pop_ID).rjust(3,\"0\") + \".pkl\"\n",
    "        with open((sim_filename), 'wb') as f4:\n",
    "            dump(sim,f4)"
   ]
  },
  {
   "cell_type": "markdown",
   "id": "35cc01ec-a692-4d0e-ab9d-e7a8bda90cf5",
   "metadata": {},
   "source": [
    "# Post2021 Grid"
   ]
  },
  {
   "cell_type": "code",
   "execution_count": 33,
   "id": "6e18f574-a9d3-4a8e-94cd-38af1e62688d",
   "metadata": {},
   "outputs": [],
   "source": [
    "theta_grid_post2021 = {\"tau\": 9e-4, \"eps_wild\": 4e-6, \"eps_seasonal\" : 3.5e-6} \n",
    "tau = theta_grid_post2021[\"tau\"]\n",
    "f = lambda I,S: (I**0.5)*(S**0.5)\n",
    "T = 365\n",
    "Td = 4\n",
    "Tdz = 3\n",
    "Tc = 3\n",
    "detected_edge_weight = 0.1"
   ]
  },
  {
   "cell_type": "code",
   "execution_count": 34,
   "id": "9816b662-c288-480d-a816-5043c97de3a0",
   "metadata": {},
   "outputs": [
    {
     "name": "stderr",
     "output_type": "stream",
     "text": [
      "100%|██████████| 100/100 [2:08:53<00:00, 77.33s/it] \n"
     ]
    }
   ],
   "source": [
    "net_filename = \"networks/grid.pkl\"\n",
    "with open((net_filename), 'rb') as f1:\n",
    "        G = load(f1)\n",
    "            \n",
    "\n",
    "for rng_ID in tqdm(range(1,101,1)):\n",
    "    rng_filename = \"RNG\\\\rng_grid_post2021_\" + str(rng_ID).rjust(3,\"0\") + \".pkl\"\n",
    "    with open((rng_filename), 'rb') as f2:\n",
    "        RNG = load(f2)\n",
    "    \n",
    "    for pop_ID in range(1,11,1):\n",
    "        pop_filename = \"populations\\\\pop_\" + str(pop_ID).rjust(3,\"0\") + \".pkl\"\n",
    "        with open((pop_filename), 'rb') as f3:\n",
    "            pop = load(f3)\n",
    "        \n",
    "\n",
    "        sim = simulation4(G, RNG, pop, T, f, tau, Td, Tc,Tdz, detected_edge_weight)\n",
    "        sim_filename = \"simulations\\\\sim_grid_post2021_RNG\" + str(rng_ID).rjust(3,\"0\") + \"_pop_\" + str(pop_ID).rjust(3,\"0\") + \".pkl\"\n",
    "        with open((sim_filename), 'wb') as f4:\n",
    "            dump(sim,f4)"
   ]
  },
  {
   "cell_type": "markdown",
   "id": "1231d645-f180-44aa-b794-2597eb2d9e0b",
   "metadata": {},
   "source": [
    "# Pre2021 D1"
   ]
  },
  {
   "cell_type": "code",
   "execution_count": 35,
   "id": "fd6b1683-ed09-4186-8cda-c46314c94f1c",
   "metadata": {},
   "outputs": [],
   "source": [
    "theta_D1_pre2021 = {\"tau\": 7.1e-4, \"eps_wild\": 0, \"eps_seasonal\" : 3.4e-7}\n",
    "tau = theta_D1_pre2021[\"tau\"]\n",
    "f = lambda I,S: (I**0.5)*(S**0.5)\n",
    "T = 365\n",
    "Td = 4\n",
    "Tdz = 3\n",
    "Tc = 3\n",
    "detected_edge_weight = 0.1"
   ]
  },
  {
   "cell_type": "code",
   "execution_count": 36,
   "id": "de1e4081-ad17-490b-b70a-dc1470409571",
   "metadata": {},
   "outputs": [
    {
     "name": "stderr",
     "output_type": "stream",
     "text": [
      "100%|██████████| 10/10 [1:13:39<00:00, 441.92s/it]\n"
     ]
    }
   ],
   "source": [
    "for net_ID in tqdm(range(1,11,1)):\n",
    "    net_filename = \"networks/grid_r_D=1_\" + str(net_ID).rjust(3,\"0\") + \".pkl\"\n",
    "    with open((net_filename), 'rb') as f1:\n",
    "            G = load(f1)\n",
    "            \n",
    "\n",
    "    for rng_ID in range(1,11,1):\n",
    "        rng_filename = \"RNG\\\\rng_D1_pre2021_network\" + str(net_ID).rjust(3,\"0\") + \"_\" + str(rng_ID).rjust(3,\"0\") + \".pkl\"\n",
    "        with open((rng_filename), 'rb') as f2:\n",
    "            RNG = load(f2)\n",
    "\n",
    "        for pop_ID in range(1,11,1):\n",
    "            pop_filename = \"populations\\\\pop_\" + str(pop_ID).rjust(3,\"0\") + \".pkl\"\n",
    "            with open((pop_filename), 'rb') as f3:\n",
    "                pop = load(f3)\n",
    "\n",
    "\n",
    "            sim = simulation4(G, RNG, pop, T, f, tau, Td, Tc,Tdz, detected_edge_weight)\n",
    "            sim_filename = \"simulations\\\\sim_D1_pre2021_network\" + str(net_ID).rjust(3,\"0\") + \"_RNG\" + str(rng_ID).rjust(3,\"0\") + \"_pop\" + str(pop_ID).rjust(3,\"0\") + \".pkl\"\n",
    "            with open((sim_filename), 'wb') as f4:\n",
    "                dump(sim,f4)"
   ]
  },
  {
   "cell_type": "markdown",
   "id": "a5a4b9aa-1580-456f-9078-f194a4d36f93",
   "metadata": {},
   "source": [
    "# Post2021 D1"
   ]
  },
  {
   "cell_type": "code",
   "execution_count": 37,
   "id": "dc8e8f06-737a-437c-bebc-7e86a901b1ab",
   "metadata": {},
   "outputs": [],
   "source": [
    "theta_D1_post2021 = {\"tau\": 7.1e-4 , \"eps_wild\": 4.23e-6, \"eps_seasonal\" : 3.75e-6}\n",
    "tau = theta_D1_post2021[\"tau\"]\n",
    "f = lambda I,S: (I**0.5)*(S**0.5)\n",
    "T = 365\n",
    "Td = 4\n",
    "Tdz = 3\n",
    "Tc = 3\n",
    "detected_edge_weight = 0.1"
   ]
  },
  {
   "cell_type": "code",
   "execution_count": 38,
   "id": "2495e215-7180-4b8f-8e41-dd2ad31087d8",
   "metadata": {},
   "outputs": [
    {
     "name": "stderr",
     "output_type": "stream",
     "text": [
      "100%|██████████| 10/10 [2:00:37<00:00, 723.78s/it] \n"
     ]
    }
   ],
   "source": [
    "for net_ID in tqdm(range(1,11,1)):\n",
    "    net_filename = \"networks/grid_r_D=1_\" + str(net_ID).rjust(3,\"0\") + \".pkl\"\n",
    "    with open((net_filename), 'rb') as f1:\n",
    "            G = load(f1)\n",
    "            \n",
    "\n",
    "    for rng_ID in range(1,11,1):\n",
    "        rng_filename = \"RNG\\\\rng_D1_post2021_network\" + str(net_ID).rjust(3,\"0\") + \"_\" + str(rng_ID).rjust(3,\"0\") + \".pkl\"\n",
    "        with open((rng_filename), 'rb') as f2:\n",
    "            RNG = load(f2)\n",
    "\n",
    "        for pop_ID in range(1,11,1):\n",
    "            pop_filename = \"populations\\\\pop_\" + str(pop_ID).rjust(3,\"0\") + \".pkl\"\n",
    "            with open((pop_filename), 'rb') as f3:\n",
    "                pop = load(f3)\n",
    "\n",
    "\n",
    "            sim = simulation4(G, RNG, pop, T, f, tau, Td, Tc,Tdz, detected_edge_weight)\n",
    "            sim_filename = \"simulations\\\\sim_D1_post2021_network\" + str(net_ID).rjust(3,\"0\") + \"_RNG\" + str(rng_ID).rjust(3,\"0\") + \"_pop\" + str(pop_ID).rjust(3,\"0\") + \".pkl\"\n",
    "            with open((sim_filename), 'wb') as f4:\n",
    "                dump(sim,f4)"
   ]
  },
  {
   "cell_type": "markdown",
   "id": "1465d4b0-6c29-48c5-8b3f-517fa7009492",
   "metadata": {},
   "source": [
    "# Pre2021 D1.5"
   ]
  },
  {
   "cell_type": "code",
   "execution_count": 39,
   "id": "d335780a-6fae-4876-876b-a084d9deff57",
   "metadata": {},
   "outputs": [],
   "source": [
    "theta_D15_pre2021 = {\"tau\": 4.9e-4, \"eps_wild\": 0, \"eps_seasonal\" : 3.4e-7}\n",
    "tau = theta_D15_pre2021[\"tau\"]\n",
    "f = lambda I,S: (I**0.5)*(S**0.5)\n",
    "T = 365\n",
    "Td = 4\n",
    "Tdz = 3\n",
    "Tc = 3\n",
    "detected_edge_weight = 0.1"
   ]
  },
  {
   "cell_type": "code",
   "execution_count": 40,
   "id": "f0634393-14e7-468c-8e8c-e4d15c89e2f3",
   "metadata": {},
   "outputs": [
    {
     "name": "stderr",
     "output_type": "stream",
     "text": [
      "100%|██████████| 10/10 [1:20:29<00:00, 482.91s/it]\n"
     ]
    }
   ],
   "source": [
    "for net_ID in tqdm(range(1,11,1)):\n",
    "    net_filename = \"networks/grid_r_D=1.5_\" + str(net_ID).rjust(3,\"0\") + \".pkl\"\n",
    "    with open((net_filename), 'rb') as f1:\n",
    "            G = load(f1)\n",
    "            \n",
    "\n",
    "    for rng_ID in range(1,11,1):\n",
    "        rng_filename = \"RNG\\\\rng_D15_pre2021_network\" + str(net_ID).rjust(3,\"0\") + \"_\" + str(rng_ID).rjust(3,\"0\") + \".pkl\"\n",
    "        with open((rng_filename), 'rb') as f2:\n",
    "            RNG = load(f2)\n",
    "\n",
    "        for pop_ID in range(1,11,1):\n",
    "            pop_filename = \"populations\\\\pop_\" + str(pop_ID).rjust(3,\"0\") + \".pkl\"\n",
    "            with open((pop_filename), 'rb') as f3:\n",
    "                pop = load(f3)\n",
    "\n",
    "\n",
    "            sim = simulation4(G, RNG, pop, T, f, tau, Td, Tc,Tdz, detected_edge_weight)\n",
    "            sim_filename = \"simulations\\\\sim_D15_pre2021_network\" + str(net_ID).rjust(3,\"0\") + \"_RNG\" + str(rng_ID).rjust(3,\"0\") + \"_pop\" + str(pop_ID).rjust(3,\"0\") + \".pkl\"\n",
    "            with open((sim_filename), 'wb') as f4:\n",
    "                dump(sim,f4)"
   ]
  },
  {
   "cell_type": "markdown",
   "id": "dd97f086-1d79-4258-acc6-1b0f54e378a2",
   "metadata": {},
   "source": [
    "# Post2021 D1.5"
   ]
  },
  {
   "cell_type": "code",
   "execution_count": 43,
   "id": "9d89fc79-ddc2-4699-8f54-59b030d5c9ad",
   "metadata": {},
   "outputs": [],
   "source": [
    "theta_D15_post2021 = {\"tau\": 4.9e-4 , \"eps_wild\": 4.457e-6, \"eps_seasonal\" : 3.9e-6}\n",
    "tau = theta_D15_post2021[\"tau\"]\n",
    "f = lambda I,S: (I**0.5)*(S**0.5)\n",
    "T = 365\n",
    "Td = 4\n",
    "Tdz = 3\n",
    "Tc = 3\n",
    "detected_edge_weight = 0.1"
   ]
  },
  {
   "cell_type": "code",
   "execution_count": 44,
   "id": "38fb8935-3d44-4d2c-887d-392bc2cd2a4f",
   "metadata": {},
   "outputs": [
    {
     "name": "stderr",
     "output_type": "stream",
     "text": [
      "  0%|          | 0/10 [10:17<?, ?it/s]\n"
     ]
    },
    {
     "ename": "KeyboardInterrupt",
     "evalue": "",
     "output_type": "error",
     "traceback": [
      "\u001b[1;31m---------------------------------------------------------------------------\u001b[0m",
      "\u001b[1;31mKeyboardInterrupt\u001b[0m                         Traceback (most recent call last)",
      "\u001b[1;32m~\\AppData\\Local\\Temp\\ipykernel_18196\\1514808335.py\u001b[0m in \u001b[0;36m<module>\u001b[1;34m\u001b[0m\n\u001b[0;32m     16\u001b[0m \u001b[1;33m\u001b[0m\u001b[0m\n\u001b[0;32m     17\u001b[0m \u001b[1;33m\u001b[0m\u001b[0m\n\u001b[1;32m---> 18\u001b[1;33m             \u001b[0msim\u001b[0m \u001b[1;33m=\u001b[0m \u001b[0msimulation4\u001b[0m\u001b[1;33m(\u001b[0m\u001b[0mG\u001b[0m\u001b[1;33m,\u001b[0m \u001b[0mRNG\u001b[0m\u001b[1;33m,\u001b[0m \u001b[0mpop\u001b[0m\u001b[1;33m,\u001b[0m \u001b[0mT\u001b[0m\u001b[1;33m,\u001b[0m \u001b[0mf\u001b[0m\u001b[1;33m,\u001b[0m \u001b[0mtau\u001b[0m\u001b[1;33m,\u001b[0m \u001b[0mTd\u001b[0m\u001b[1;33m,\u001b[0m \u001b[0mTc\u001b[0m\u001b[1;33m,\u001b[0m\u001b[0mTdz\u001b[0m\u001b[1;33m,\u001b[0m \u001b[0mdetected_edge_weight\u001b[0m\u001b[1;33m)\u001b[0m\u001b[1;33m\u001b[0m\u001b[1;33m\u001b[0m\u001b[0m\n\u001b[0m\u001b[0;32m     19\u001b[0m             \u001b[0msim_filename\u001b[0m \u001b[1;33m=\u001b[0m \u001b[1;34m\"simulations\\\\sim_D15_post2021_network\"\u001b[0m \u001b[1;33m+\u001b[0m \u001b[0mstr\u001b[0m\u001b[1;33m(\u001b[0m\u001b[0mnet_ID\u001b[0m\u001b[1;33m)\u001b[0m\u001b[1;33m.\u001b[0m\u001b[0mrjust\u001b[0m\u001b[1;33m(\u001b[0m\u001b[1;36m3\u001b[0m\u001b[1;33m,\u001b[0m\u001b[1;34m\"0\"\u001b[0m\u001b[1;33m)\u001b[0m \u001b[1;33m+\u001b[0m \u001b[1;34m\"_RNG\"\u001b[0m \u001b[1;33m+\u001b[0m \u001b[0mstr\u001b[0m\u001b[1;33m(\u001b[0m\u001b[0mrng_ID\u001b[0m\u001b[1;33m)\u001b[0m\u001b[1;33m.\u001b[0m\u001b[0mrjust\u001b[0m\u001b[1;33m(\u001b[0m\u001b[1;36m3\u001b[0m\u001b[1;33m,\u001b[0m\u001b[1;34m\"0\"\u001b[0m\u001b[1;33m)\u001b[0m \u001b[1;33m+\u001b[0m \u001b[1;34m\"_pop\"\u001b[0m \u001b[1;33m+\u001b[0m \u001b[0mstr\u001b[0m\u001b[1;33m(\u001b[0m\u001b[0mpop_ID\u001b[0m\u001b[1;33m)\u001b[0m\u001b[1;33m.\u001b[0m\u001b[0mrjust\u001b[0m\u001b[1;33m(\u001b[0m\u001b[1;36m3\u001b[0m\u001b[1;33m,\u001b[0m\u001b[1;34m\"0\"\u001b[0m\u001b[1;33m)\u001b[0m \u001b[1;33m+\u001b[0m \u001b[1;34m\".pkl\"\u001b[0m\u001b[1;33m\u001b[0m\u001b[1;33m\u001b[0m\u001b[0m\n\u001b[0;32m     20\u001b[0m             \u001b[1;32mwith\u001b[0m \u001b[0mopen\u001b[0m\u001b[1;33m(\u001b[0m\u001b[1;33m(\u001b[0m\u001b[0msim_filename\u001b[0m\u001b[1;33m)\u001b[0m\u001b[1;33m,\u001b[0m \u001b[1;34m'wb'\u001b[0m\u001b[1;33m)\u001b[0m \u001b[1;32mas\u001b[0m \u001b[0mf4\u001b[0m\u001b[1;33m:\u001b[0m\u001b[1;33m\u001b[0m\u001b[1;33m\u001b[0m\u001b[0m\n",
      "\u001b[1;32m~\\AppData\\Local\\Temp\\ipykernel_18196\\2240556833.py\u001b[0m in \u001b[0;36msimulation4\u001b[1;34m(G, RNG, pop, T, f, tau, Td, Tc, Tdz, detected_edge_weight)\u001b[0m\n\u001b[0;32m    123\u001b[0m                         \u001b[0mS\u001b[0m \u001b[1;33m=\u001b[0m \u001b[0mS\u001b[0m\u001b[1;33m-\u001b[0m\u001b[1;36m1\u001b[0m\u001b[1;33m\u001b[0m\u001b[1;33m\u001b[0m\u001b[0m\n\u001b[0;32m    124\u001b[0m \u001b[1;33m\u001b[0m\u001b[0m\n\u001b[1;32m--> 125\u001b[1;33m                     \u001b[1;32melif\u001b[0m \u001b[0mG\u001b[0m\u001b[1;33m.\u001b[0m\u001b[0mnodes\u001b[0m\u001b[1;33m[\u001b[0m\u001b[0mn\u001b[0m\u001b[1;33m]\u001b[0m\u001b[1;33m[\u001b[0m\u001b[1;34m\"status\"\u001b[0m\u001b[1;33m]\u001b[0m\u001b[1;33m[\u001b[0m\u001b[0mt\u001b[0m\u001b[1;33m+\u001b[0m\u001b[1;36m1\u001b[0m\u001b[1;33m-\u001b[0m\u001b[0mTd\u001b[0m\u001b[1;33m:\u001b[0m\u001b[0mt\u001b[0m\u001b[1;33m+\u001b[0m\u001b[1;36m1\u001b[0m\u001b[1;33m]\u001b[0m \u001b[1;33m==\u001b[0m \u001b[0mTd\u001b[0m\u001b[1;33m*\u001b[0m\u001b[1;33m[\u001b[0m\u001b[1;34m\"I\"\u001b[0m\u001b[1;33m]\u001b[0m\u001b[1;33m:\u001b[0m\u001b[1;33m\u001b[0m\u001b[1;33m\u001b[0m\u001b[0m\n\u001b[0m\u001b[0;32m    126\u001b[0m                         \u001b[1;32mif\u001b[0m \u001b[0mt\u001b[0m\u001b[1;33m>=\u001b[0m\u001b[0mTd\u001b[0m\u001b[1;33m:\u001b[0m\u001b[1;33m\u001b[0m\u001b[1;33m\u001b[0m\u001b[0m\n\u001b[0;32m    127\u001b[0m                             \u001b[0mG\u001b[0m\u001b[1;33m.\u001b[0m\u001b[0mnodes\u001b[0m\u001b[1;33m[\u001b[0m\u001b[0mn\u001b[0m\u001b[1;33m]\u001b[0m\u001b[1;33m[\u001b[0m\u001b[1;34m\"status\"\u001b[0m\u001b[1;33m]\u001b[0m\u001b[1;33m[\u001b[0m\u001b[0mt\u001b[0m\u001b[1;33m+\u001b[0m\u001b[1;36m1\u001b[0m\u001b[1;33m]\u001b[0m \u001b[1;33m=\u001b[0m \u001b[1;34m\"D\"\u001b[0m\u001b[1;33m\u001b[0m\u001b[1;33m\u001b[0m\u001b[0m\n",
      "\u001b[1;31mKeyboardInterrupt\u001b[0m: "
     ]
    }
   ],
   "source": [
    "for net_ID in tqdm(range(1,11,1)):\n",
    "    net_filename = \"networks/grid_r_D=1.5_\" + str(net_ID).rjust(3,\"0\") + \".pkl\"\n",
    "    with open((net_filename), 'rb') as f1:\n",
    "            G = load(f1)\n",
    "            \n",
    "\n",
    "    for rng_ID in range(1,11,1):\n",
    "        rng_filename = \"RNG\\\\rng_D15_post2021_network\" + str(net_ID).rjust(3,\"0\") + \"_\" + str(rng_ID).rjust(3,\"0\") + \".pkl\"\n",
    "        with open((rng_filename), 'rb') as f2:\n",
    "            RNG = load(f2)\n",
    "\n",
    "        for pop_ID in range(1,11,1):\n",
    "            pop_filename = \"populations\\\\pop_\" + str(pop_ID).rjust(3,\"0\") + \".pkl\"\n",
    "            with open((pop_filename), 'rb') as f3:\n",
    "                pop = load(f3)\n",
    "\n",
    "\n",
    "            sim = simulation4(G, RNG, pop, T, f, tau, Td, Tc,Tdz, detected_edge_weight)\n",
    "            sim_filename = \"simulations\\\\sim_D15_post2021_network\" + str(net_ID).rjust(3,\"0\") + \"_RNG\" + str(rng_ID).rjust(3,\"0\") + \"_pop\" + str(pop_ID).rjust(3,\"0\") + \".pkl\"\n",
    "            with open((sim_filename), 'wb') as f4:\n",
    "                dump(sim,f4)"
   ]
  },
  {
   "cell_type": "markdown",
   "id": "c948e5e4-0f2f-4603-9fdf-0b82510531de",
   "metadata": {
    "tags": []
   },
   "source": [
    "# Pre2021 D2"
   ]
  },
  {
   "cell_type": "code",
   "execution_count": 12,
   "id": "3d47e2bd-9b75-40e8-a635-7370ea4fd233",
   "metadata": {},
   "outputs": [],
   "source": [
    "theta_D2_pre2021 = {\"tau\": 5e-4, \"eps_wild\": 0, \"eps_seasonal\" : 3.4055041584399e-7}\n",
    "tau = theta_D2_pre2021[\"tau\"]\n",
    "f = lambda I,S: (I**0.5)*(S**0.5)\n",
    "T = 365\n",
    "Td = 4\n",
    "Tdz = 3\n",
    "Tc = 3\n",
    "detected_edge_weight = 0.1"
   ]
  },
  {
   "cell_type": "code",
   "execution_count": 13,
   "id": "b3589b53-9e8e-4453-9d3e-72cdd3540d9c",
   "metadata": {},
   "outputs": [
    {
     "name": "stderr",
     "output_type": "stream",
     "text": [
      "100%|██████████| 10/10 [1:16:47<00:00, 460.71s/it]\n"
     ]
    }
   ],
   "source": [
    "for net_ID in tqdm(range(1,11,1)):\n",
    "    net_filename = \"networks/grid_r_D=2_\" + str(net_ID).rjust(3,\"0\") + \".pkl\"\n",
    "    with open((net_filename), 'rb') as f1:\n",
    "            G = load(f1)\n",
    "            \n",
    "\n",
    "    for rng_ID in range(1,11,1):\n",
    "        rng_filename = \"RNG\\\\rng_D2_pre2021_network\" + str(net_ID).rjust(3,\"0\") + \"_\" + str(rng_ID).rjust(3,\"0\") + \".pkl\"\n",
    "        with open((rng_filename), 'rb') as f2:\n",
    "            RNG = load(f2)\n",
    "\n",
    "        for pop_ID in range(1,11,1):\n",
    "            pop_filename = \"populations\\\\pop_\" + str(pop_ID).rjust(3,\"0\") + \".pkl\"\n",
    "            with open((pop_filename), 'rb') as f3:\n",
    "                pop = load(f3)\n",
    "\n",
    "\n",
    "            sim = simulation4(G, RNG, pop, T, f, tau, Td, Tc,Tdz, detected_edge_weight)\n",
    "            sim_filename = \"simulations\\\\sim_D2_pre2021_network\" + str(net_ID).rjust(3,\"0\") + \"_RNG\" + str(rng_ID).rjust(3,\"0\") + \"_pop\" + str(pop_ID).rjust(3,\"0\") + \".pkl\"\n",
    "            with open((sim_filename), 'wb') as f4:\n",
    "                dump(sim,f4)"
   ]
  },
  {
   "cell_type": "markdown",
   "id": "3e01e47b-2304-4fff-820b-f524845b7f6e",
   "metadata": {},
   "source": [
    "# Post2021 D2"
   ]
  },
  {
   "cell_type": "code",
   "execution_count": 14,
   "id": "24ce9474-fa22-433f-ac99-9a855a8d7ca5",
   "metadata": {},
   "outputs": [],
   "source": [
    "theta_D2_post2021 = {\"tau\": 5e-4 , \"eps_wild\": 4.25e-6, \"eps_seasonal\" : 3.75e-6}\n",
    "tau = theta_D2_post2021[\"tau\"]\n",
    "f = lambda I,S: (I**0.5)*(S**0.5)\n",
    "T = 365\n",
    "Td = 4\n",
    "Tdz = 3\n",
    "Tc = 3\n",
    "detected_edge_weight = 0.1"
   ]
  },
  {
   "cell_type": "code",
   "execution_count": 15,
   "id": "4190d33d-6a55-41e0-acb5-217f25bbcaff",
   "metadata": {},
   "outputs": [
    {
     "name": "stderr",
     "output_type": "stream",
     "text": [
      "100%|██████████| 10/10 [2:06:51<00:00, 761.16s/it] \n"
     ]
    }
   ],
   "source": [
    "for net_ID in tqdm(range(1,11,1)):\n",
    "    net_filename = \"networks/grid_r_D=2_\" + str(net_ID).rjust(3,\"0\") + \".pkl\"\n",
    "    with open((net_filename), 'rb') as f1:\n",
    "            G = load(f1)\n",
    "            \n",
    "\n",
    "    for rng_ID in range(1,11,1):\n",
    "        rng_filename = \"RNG\\\\rng_D2_post2021_network\" + str(net_ID).rjust(3,\"0\") + \"_\" + str(rng_ID).rjust(3,\"0\") + \".pkl\"\n",
    "        with open((rng_filename), 'rb') as f2:\n",
    "            RNG = load(f2)\n",
    "\n",
    "        for pop_ID in range(1,11,1):\n",
    "            pop_filename = \"populations\\\\pop_\" + str(pop_ID).rjust(3,\"0\") + \".pkl\"\n",
    "            with open((pop_filename), 'rb') as f3:\n",
    "                pop = load(f3)\n",
    "\n",
    "\n",
    "            sim = simulation4(G, RNG, pop, T, f, tau, Td, Tc,Tdz, detected_edge_weight)\n",
    "            sim_filename = \"simulations\\\\sim_D2_post2021_network\" + str(net_ID).rjust(3,\"0\") + \"_RNG\" + str(rng_ID).rjust(3,\"0\") + \"_pop\" + str(pop_ID).rjust(3,\"0\") + \".pkl\"\n",
    "            with open((sim_filename), 'wb') as f4:\n",
    "                dump(sim,f4)"
   ]
  },
  {
   "cell_type": "markdown",
   "id": "a1ed7352-63dd-4197-bc2b-7130232eea00",
   "metadata": {},
   "source": [
    "# Pre2021 D3"
   ]
  },
  {
   "cell_type": "code",
   "execution_count": 28,
   "id": "64c65bd1-d279-40f0-ba6f-25fec9b8d8fe",
   "metadata": {},
   "outputs": [],
   "source": [
    "theta_D3_pre2021 = {\"tau\": 3.75e-4, \"eps_wild\": 0, \"eps_seasonal\" : 3.4055041584399e-7}\n",
    "tau = theta_D3_pre2021[\"tau\"]\n",
    "f = lambda I,S: (I**0.5)*(S**0.5)\n",
    "T = 365\n",
    "Td = 4\n",
    "Tdz = 3\n",
    "Tc = 3\n",
    "detected_edge_weight = 0.1"
   ]
  },
  {
   "cell_type": "code",
   "execution_count": 29,
   "id": "01102ecf-7e7f-44d4-b079-bda17c54caab",
   "metadata": {},
   "outputs": [
    {
     "name": "stderr",
     "output_type": "stream",
     "text": [
      "100%|██████████| 10/10 [1:50:37<00:00, 663.71s/it] \n"
     ]
    }
   ],
   "source": [
    "for net_ID in tqdm(range(1,11,1)):\n",
    "    net_filename = \"networks/grid_r_D=3_\" + str(net_ID).rjust(3,\"0\") + \".pkl\"\n",
    "    with open((net_filename), 'rb') as f1:\n",
    "            G = load(f1)\n",
    "            \n",
    "\n",
    "    for rng_ID in range(1,11,1):\n",
    "        rng_filename = \"RNG\\\\rng_D3_pre2021_network\" + str(net_ID).rjust(3,\"0\") + \"_\" + str(rng_ID).rjust(3,\"0\") + \".pkl\"\n",
    "        with open((rng_filename), 'rb') as f2:\n",
    "            RNG = load(f2)\n",
    "\n",
    "        for pop_ID in range(1,11,1):\n",
    "            pop_filename = \"populations\\\\pop_\" + str(pop_ID).rjust(3,\"0\") + \".pkl\"\n",
    "            with open((pop_filename), 'rb') as f3:\n",
    "                pop = load(f3)\n",
    "\n",
    "\n",
    "            sim = simulation4(G, RNG, pop, T, f, tau, Td, Tc,Tdz, detected_edge_weight)\n",
    "            sim_filename = \"simulations\\\\sim_D3_pre2021_network\" + str(net_ID).rjust(3,\"0\") + \"_RNG\" + str(rng_ID).rjust(3,\"0\") + \"_pop\" + str(pop_ID).rjust(3,\"0\") + \".pkl\"\n",
    "            with open((sim_filename), 'wb') as f4:\n",
    "                dump(sim,f4)"
   ]
  },
  {
   "cell_type": "markdown",
   "id": "9768fa55-7df1-42ea-9245-4b57dffb3c31",
   "metadata": {},
   "source": [
    "# Post2021 D3"
   ]
  },
  {
   "cell_type": "code",
   "execution_count": 30,
   "id": "14a5c61d-49b4-4c01-85a0-38732db82426",
   "metadata": {},
   "outputs": [],
   "source": [
    "theta_D3_post2021 = {\"tau\": 3.75e-4, \"eps_wild\": 5e-6, \"eps_seasonal\" : 4e-6}\n",
    "tau = theta_D3_post2021[\"tau\"]\n",
    "f = lambda I,S: (I**0.5)*(S**0.5)\n",
    "T = 365\n",
    "Td = 4\n",
    "Tdz = 3\n",
    "Tc = 3\n",
    "detected_edge_weight = 0.1"
   ]
  },
  {
   "cell_type": "code",
   "execution_count": 31,
   "id": "9e8157cc-2f18-4125-bc5a-ef3256080af9",
   "metadata": {},
   "outputs": [
    {
     "name": "stderr",
     "output_type": "stream",
     "text": [
      "100%|██████████| 10/10 [2:10:23<00:00, 782.31s/it] \n"
     ]
    }
   ],
   "source": [
    "for net_ID in tqdm(range(1,11,1)):\n",
    "    net_filename = \"networks/grid_r_D=3_\" + str(net_ID).rjust(3,\"0\") + \".pkl\"\n",
    "    with open((net_filename), 'rb') as f1:\n",
    "            G = load(f1)\n",
    "            \n",
    "\n",
    "    for rng_ID in range(1,11,1):\n",
    "        rng_filename = \"RNG\\\\rng_D3_post2021_network\" + str(net_ID).rjust(3,\"0\") + \"_\" + str(rng_ID).rjust(3,\"0\") + \".pkl\"\n",
    "        with open((rng_filename), 'rb') as f2:\n",
    "            RNG = load(f2)\n",
    "\n",
    "        for pop_ID in range(1,11,1):\n",
    "            pop_filename = \"populations\\\\pop_\" + str(pop_ID).rjust(3,\"0\") + \".pkl\"\n",
    "            with open((pop_filename), 'rb') as f3:\n",
    "                pop = load(f3)\n",
    "\n",
    "\n",
    "            sim = simulation4(G, RNG, pop, T, f, tau, Td, Tc,Tdz, detected_edge_weight)\n",
    "            sim_filename = \"simulations\\\\sim_D3_post2021_network\" + str(net_ID).rjust(3,\"0\") + \"_RNG\" + str(rng_ID).rjust(3,\"0\") + \"_pop\" + str(pop_ID).rjust(3,\"0\") + \".pkl\"\n",
    "            with open((sim_filename), 'wb') as f4:\n",
    "                dump(sim,f4)"
   ]
  },
  {
   "cell_type": "code",
   "execution_count": null,
   "id": "374cd4de-54df-43e1-8f84-9203698b65c7",
   "metadata": {},
   "outputs": [],
   "source": []
  }
 ],
 "metadata": {
  "kernelspec": {
   "display_name": "Python 3 (ipykernel)",
   "language": "python",
   "name": "python3"
  },
  "language_info": {
   "codemirror_mode": {
    "name": "ipython",
    "version": 3
   },
   "file_extension": ".py",
   "mimetype": "text/x-python",
   "name": "python",
   "nbconvert_exporter": "python",
   "pygments_lexer": "ipython3",
   "version": "3.9.7"
  }
 },
 "nbformat": 4,
 "nbformat_minor": 5
}
